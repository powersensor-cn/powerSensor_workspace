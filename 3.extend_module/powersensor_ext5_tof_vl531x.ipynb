{
 "cells": [
  {
   "cell_type": "code",
   "execution_count": 1,
   "metadata": {},
   "outputs": [],
   "source": [
    "import Vl531x_helper\n",
    "import PowerSensor as ps\n",
    "from IPython.display import clear_output\n",
    "import time"
   ]
  },
  {
   "cell_type": "markdown",
   "metadata": {},
   "source": [
    "### 初始化"
   ]
  },
  {
   "cell_type": "code",
   "execution_count": 19,
   "metadata": {},
   "outputs": [],
   "source": [
    "i2c1 = ps.I2cPort()\n",
    "sensor =  Vl531x_helper.vl531x_helper(i2c1)"
   ]
  },
  {
   "cell_type": "code",
   "execution_count": 20,
   "metadata": {},
   "outputs": [
    {
     "data": {
      "text/plain": [
       "True"
      ]
     },
     "execution_count": 20,
     "metadata": {},
     "output_type": "execute_result"
    }
   ],
   "source": [
    "# 1. 传感器初始化\n",
    "sensor.sensor_init()\n",
    "# 2. 设置参数\n",
    "# 2.1 最大距离参数，可以是'long', 'medium', 'short'中的一个\n",
    "sensor.vl53l1x_setDistanceMode('short')\n",
    "# 2.2 设置最大测量时间，单位微秒，long模式建议500\n",
    "sensor.vl53l1x_setMeasurementTimingBudget(33000)"
   ]
  },
  {
   "cell_type": "markdown",
   "metadata": {},
   "source": [
    "### 开始测量"
   ]
  },
  {
   "cell_type": "code",
   "execution_count": 21,
   "metadata": {},
   "outputs": [],
   "source": [
    "# 开始测量，参数是采样时间，单位毫秒，原则上要大于最大测量时间\n",
    "sensor.sensor_start(50)"
   ]
  },
  {
   "cell_type": "code",
   "execution_count": 22,
   "metadata": {},
   "outputs": [
    {
     "name": "stdout",
     "output_type": "stream",
     "text": [
      "1766\n"
     ]
    }
   ],
   "source": [
    "for i in range(500):\n",
    "    clear_output(wait=True)\n",
    "    over_time = 0\n",
    "    while(not sensor.sensor_new_data()):\n",
    "        over_time = over_time + 1\n",
    "        time.sleep(0.001)\n",
    "        if over_time > 200:\n",
    "            print('over tiem')\n",
    "            break\n",
    "    print(sensor.sensor_read_mm())\n",
    "    time.sleep(0.1)"
   ]
  },
  {
   "cell_type": "code",
   "execution_count": 23,
   "metadata": {},
   "outputs": [],
   "source": [
    "sensor.sensor_stop()"
   ]
  },
  {
   "cell_type": "code",
   "execution_count": null,
   "metadata": {},
   "outputs": [],
   "source": []
  }
 ],
 "metadata": {
  "kernelspec": {
   "display_name": "Python 2",
   "language": "python",
   "name": "python2"
  },
  "language_info": {
   "codemirror_mode": {
    "name": "ipython",
    "version": 2
   },
   "file_extension": ".py",
   "mimetype": "text/x-python",
   "name": "python",
   "nbconvert_exporter": "python",
   "pygments_lexer": "ipython2",
   "version": "2.7.13"
  },
  "toc": {
   "base_numbering": 1,
   "nav_menu": {},
   "number_sections": true,
   "sideBar": true,
   "skip_h1_title": false,
   "title_cell": "Table of Contents",
   "title_sidebar": "Contents",
   "toc_cell": false,
   "toc_position": {},
   "toc_section_display": true,
   "toc_window_display": false
  }
 },
 "nbformat": 4,
 "nbformat_minor": 2
}
