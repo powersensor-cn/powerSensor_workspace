{
 "cells": [
  {
   "cell_type": "markdown",
   "metadata": {},
   "source": [
    "# Powersenosr入门教程2 - 常用通信接口"
   ]
  },
  {
   "cell_type": "markdown",
   "metadata": {},
   "source": [
    "# Powersensor 排针管脚定义\n",
    "\n",
    "Powersensor 支持串口（molex接口），spi接口，i2c接口等通信方式，位置图如下：\n",
    "\n",
    "![img//ps_backInterface.png](./img/ps_backInterface.png)"
   ]
  },
  {
   "cell_type": "code",
   "execution_count": 1,
   "metadata": {},
   "outputs": [],
   "source": [
    "import PowerSensor as ps\n",
    "import numpy as np\n",
    "import cv2\n",
    "import matplotlib.pyplot as pyplot"
   ]
  },
  {
   "cell_type": "markdown",
   "metadata": {},
   "source": [
    "# SPI 通信示例\n",
    "\n",
    "Powersenosr支持的SPI是一类双向全双工的SPI通信协议，片选信号硬件管理。管脚有CS（片选）、sck（时钟）、MOSI（主机输出从机输入）、MISO（主机输入从机输出）4个。\n",
    "\n",
    "示例程序如下："
   ]
  },
  {
   "cell_type": "code",
   "execution_count": 2,
   "metadata": {},
   "outputs": [],
   "source": [
    "# 初始化spi，运行一次即可\n",
    "spi = ps.SpiPort()"
   ]
  },
  {
   "cell_type": "code",
   "execution_count": 5,
   "metadata": {},
   "outputs": [],
   "source": [
    "# 配置spi，参数分别是通信速率，sck极性，sck激活沿\n",
    "## sck极性0或1，0代表空闲状态低电平，1代表空闲状态高电平\n",
    "## sck激活沿，0代表第一个沿数据位有效（MOSI和MISO)，1代表第二个沿数据为有效。\n",
    "## 多说一句，0，0意味着空闲sck为低，上升沿读写数据，1，0意味着空闲sck为高，下降沿读写数据。\n",
    "spi.set_clock(1000000, 0, 0)"
   ]
  },
  {
   "cell_type": "code",
   "execution_count": 6,
   "metadata": {},
   "outputs": [
    {
     "name": "stdout",
     "output_type": "stream",
     "text": [
      "[1, 3, 5, 7]\n"
     ]
    }
   ],
   "source": [
    "# 读写数据，回环测试：请将mosi和miso短接，这样发送数据的时候就可以收到数据\n",
    "# 读写的数据类型为list，dtype为uint8\n",
    "to_send = [1, 3, 5, 7]\n",
    "print(spi.swap_data(to_send))"
   ]
  },
  {
   "cell_type": "markdown",
   "metadata": {},
   "source": [
    "# I2C通信示例\n",
    "\n",
    "i2c是一种双线多设备总线结构的通信协议，考虑到兼容性，在与外设通信时注意自己接合适的上拉电阻（powersensor没有接上拉电阻）。\n",
    "\n",
    "i2c无法回环测试，需要外接一个设备，这里以mpu6050举例，示例程序如下："
   ]
  },
  {
   "cell_type": "code",
   "execution_count": 13,
   "metadata": {},
   "outputs": [],
   "source": [
    "# 初始化i2c，运行一次即可\n",
    "i2c = ps.I2cPort()"
   ]
  },
  {
   "cell_type": "code",
   "execution_count": 14,
   "metadata": {},
   "outputs": [],
   "source": [
    "# 配置从机地址，注意，这里使用的是7位的从机地址，\n",
    "# mpu6050文档上写的从机地址是0xD0，这个是8位地址，需要右移一位变成0x68\n",
    "i2c.set_slave_addr(0x68)"
   ]
  },
  {
   "cell_type": "code",
   "execution_count": 15,
   "metadata": {},
   "outputs": [
    {
     "name": "stdout",
     "output_type": "stream",
     "text": [
      "104\n"
     ]
    }
   ],
   "source": [
    "# 这里读取mpu6050的ID寄存器，这个寄存器是只读的，值为104\n",
    "imu_id = i2c.read_byte(117)\n",
    "print(imu_id)"
   ]
  },
  {
   "cell_type": "markdown",
   "metadata": {},
   "source": [
    "# 串口通信\n",
    "\n",
    "串口管脚是一个molex接口，这种接口非常稳定\n",
    "\n",
    "![串口管脚](./img/ps_interfaceUsart.jpg)\n",
    "\n",
    "从左往右1、2、3、4管脚依次为：\n",
    "\n",
    "管脚号|颜色|名称\n",
    ":-: | :-: | :-: \n",
    "1\t| 红 |\tTXD0 |\n",
    "2\t| 黑\t| RXD0 |\n",
    "3\t| 黄\t| GND |\n",
    "4\t| 绿\t| 3V3 |\n",
    "\n",
    "串口在测试时需要使用usb转串口模块（包装里有） 及串口调试助手，接线的时候注意tx接rx，rx接tx。"
   ]
  },
  {
   "cell_type": "code",
   "execution_count": 17,
   "metadata": {},
   "outputs": [],
   "source": [
    "# 初始化串口，运行一次即可\n",
    "s1 = ps.UsartPort()"
   ]
  },
  {
   "cell_type": "markdown",
   "metadata": {},
   "source": [
    "## 字符串打印，上位机读取常用的方式"
   ]
  },
  {
   "cell_type": "code",
   "execution_count": 18,
   "metadata": {},
   "outputs": [],
   "source": [
    "# 设置波特率，只需要设置一次，默认为115200\n",
    "s1.set_baudrate(115200)\n",
    "for i in range(2):\n",
    "    s1.u_print('hello world!\\n')"
   ]
  },
  {
   "cell_type": "markdown",
   "metadata": {},
   "source": [
    "## 输出字节数组，单片机读取常用的方式"
   ]
  },
  {
   "cell_type": "code",
   "execution_count": 19,
   "metadata": {},
   "outputs": [],
   "source": [
    "# 设置波特率，只需要设置一次，默认为115200\n",
    "s1.set_baudrate(9600)\n",
    "for i in range(2):\n",
    "    s1.u_send_bytes([1, 3, 5, 7, 9])"
   ]
  },
  {
   "cell_type": "markdown",
   "metadata": {},
   "source": [
    "结果如图所示：\n",
    "![](./img/ps_usartResutl2.jpg/)"
   ]
  },
  {
   "cell_type": "markdown",
   "metadata": {},
   "source": [
    "# PWM输出\n",
    "\n",
    "powersensor目前支持两种PWM输出模式，一种是4路普通PWM，这四路pwm波的周期是一致的，高电平时间可以分别设定；另一种是2路互补PWM，每路PWM包含一个正相位信号和一个反相位信号。"
   ]
  },
  {
   "cell_type": "code",
   "execution_count": 4,
   "metadata": {},
   "outputs": [],
   "source": [
    "# 初始化控制对象\n",
    "pwmx = ps.PwmActuator()"
   ]
  },
  {
   "cell_type": "code",
   "execution_count": 6,
   "metadata": {},
   "outputs": [],
   "source": [
    "# 普通模式下的pwm输出\n",
    "# 预分频，实际分频数=设定值+1\n",
    "pwmx.preDividor = 10 - 1\n",
    "# 死区，实际的周期=设定值+1\n",
    "pwmx.period = 1000 - 1\n",
    "# 高电平时间，最大为周期的设定值，即999\n",
    "pwmx.pwm0 = 200\n",
    "pwmx.pwm1 = 400\n",
    "pwmx.pwm2 = 600\n",
    "pwmx.pwm3 = 800\n",
    "# 模式设置，0：低电平；1：普通模式；2：互补输出模式；\n",
    "pwmx.mode = 1\n",
    "# 写入设置，写入这句后，上述配置的内容才起效\n",
    "pwmx.pwm_setup(True)"
   ]
  },
  {
   "cell_type": "code",
   "execution_count": 7,
   "metadata": {},
   "outputs": [],
   "source": [
    "# 互补模式下的pwm输出\n",
    "# 预分频，实际分频数=设定值+1\n",
    "pwmx.preDividor = 10 - 1\n",
    "# 周期，实际的周期=设定值+1\n",
    "pwmx.period = 1000 - 1\n",
    "# 死区，即互补的两个信号的高电平间的间隔，实际值为设定值+1\n",
    "pwmx.preDeadZonee = 50 - 1\n",
    "# 互补滤波通道1，高电平时间，最大为周期的设定值，即999\n",
    "pwmx.pwm0 = 200\n",
    "# 互补滤波通道2，高电平时间，最大为周期的设定值，即999\n",
    "pwmx.pwm2 = 600\n",
    "## 此模式下，pwm1和pwm3不起作用\n",
    "# 模式设置，0：低电平；1：普通模式；2：互补输出模式；\n",
    "pwmx.mode = 1\n",
    "# 写入设置，写入这句后，上述配置的内容才起效\n",
    "pwmx.pwm_setup(True)\n",
    "# 预分频，实际分频数=设定值+1\n",
    "pwmx.preDividor = 10 - 1"
   ]
  },
  {
   "cell_type": "code",
   "execution_count": 6,
   "metadata": {},
   "outputs": [],
   "source": [
    "# 动态改变高电平时间，第一个参数为通道数0-3，第二个参数为高电平时间\n",
    "pwmx.pwm_set_width(0, 300)\n"
   ]
  },
  {
   "cell_type": "code",
   "execution_count": null,
   "metadata": {},
   "outputs": [],
   "source": []
  }
 ],
 "metadata": {
  "kernelspec": {
   "display_name": "Python 2",
   "language": "python",
   "name": "python2"
  },
  "language_info": {
   "codemirror_mode": {
    "name": "ipython",
    "version": 2
   },
   "file_extension": ".py",
   "mimetype": "text/x-python",
   "name": "python",
   "nbconvert_exporter": "python",
   "pygments_lexer": "ipython2",
   "version": "2.7.13"
  },
  "toc": {
   "base_numbering": 1,
   "nav_menu": {},
   "number_sections": true,
   "sideBar": true,
   "skip_h1_title": false,
   "title_cell": "Table of Contents",
   "title_sidebar": "Contents",
   "toc_cell": false,
   "toc_position": {},
   "toc_section_display": true,
   "toc_window_display": false
  }
 },
 "nbformat": 4,
 "nbformat_minor": 2
}
