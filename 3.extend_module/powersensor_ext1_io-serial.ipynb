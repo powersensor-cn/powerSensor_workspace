{
 "cells": [
  {
   "cell_type": "code",
   "execution_count": 1,
   "metadata": {},
   "outputs": [],
   "source": [
    "import PowerSensor as ps"
   ]
  },
  {
   "cell_type": "markdown",
   "metadata": {},
   "source": [
    "# IO隔离测试"
   ]
  },
  {
   "cell_type": "markdown",
   "metadata": {},
   "source": [
    "## 初始化控制对象"
   ]
  },
  {
   "cell_type": "code",
   "execution_count": 2,
   "metadata": {},
   "outputs": [],
   "source": [
    "gpiox = ps.GpioPort()"
   ]
  },
  {
   "cell_type": "markdown",
   "metadata": {},
   "source": [
    "## 测试隔离板IO输入"
   ]
  },
  {
   "cell_type": "code",
   "execution_count": null,
   "metadata": {},
   "outputs": [],
   "source": [
    "# 设置输入模式\n",
    "gpiox.set_mode(0, ps.PortPara.Gpio_Mode_In)\n",
    "gpiox.set_mode(1, ps.PortPara.Gpio_Mode_In)\n",
    "gpiox.set_mode(2, ps.PortPara.Gpio_Mode_In)\n",
    "gpiox.set_mode(3, ps.PortPara.Gpio_Mode_In)"
   ]
  },
  {
   "cell_type": "code",
   "execution_count": null,
   "metadata": {},
   "outputs": [],
   "source": [
    "# 打印输入给IO隔离板的电平高低\n",
    "for i in range(10):\n",
    "    x1 = gpiox.read_value(0)\n",
    "    x2 = gpiox.read_value(1)\n",
    "    x3 = gpiox.read_value(2)\n",
    "    x4 = gpiox.read_value(3)\n",
    "    print(x1, x2, x3, x4)\n",
    "    time.sleep(1)"
   ]
  },
  {
   "cell_type": "markdown",
   "metadata": {},
   "source": [
    "## 测试隔离板IO输出"
   ]
  },
  {
   "cell_type": "code",
   "execution_count": null,
   "metadata": {},
   "outputs": [],
   "source": [
    "# 设置输出模式\n",
    "gpiox.set_mode(4, ps.PortPara.Gpio_Mode_Out)\n",
    "gpiox.set_mode(5, ps.PortPara.Gpio_Mode_Out)"
   ]
  },
  {
   "cell_type": "code",
   "execution_count": null,
   "metadata": {},
   "outputs": [],
   "source": [
    "# 输出通断1s切换一次\n",
    "for i in range(50):\n",
    "    gpiox.set_value(4, ps.PortPara.Gpio_Value_Low)\n",
    "    gpiox.set_value(5, ps.PortPara.Gpio_Value_Low)\n",
    "    time.sleep(1)\n",
    "    gpiox.set_value(4, ps.PortPara.Gpio_Value_High)\n",
    "    gpiox.set_value(5, ps.PortPara.Gpio_Value_High)\n",
    "    time.sleep(1)"
   ]
  },
  {
   "cell_type": "markdown",
   "metadata": {},
   "source": [
    "# 串口测试"
   ]
  },
  {
   "cell_type": "code",
   "execution_count": null,
   "metadata": {},
   "outputs": [],
   "source": [
    "# 初始化串口，运行一次即可\n",
    "s1 = ps.UsartPort()"
   ]
  },
  {
   "cell_type": "code",
   "execution_count": null,
   "metadata": {},
   "outputs": [],
   "source": [
    "# 串口发送\n",
    "s1.set_baudrate(9600)\n",
    "for i in range(2):\n",
    "    s1.u_send_bytes([1, 3, 5, 7, 9])"
   ]
  }
 ],
 "metadata": {
  "kernelspec": {
   "display_name": "Python 2",
   "language": "python",
   "name": "python2"
  },
  "language_info": {
   "codemirror_mode": {
    "name": "ipython",
    "version": 2
   },
   "file_extension": ".py",
   "mimetype": "text/x-python",
   "name": "python",
   "nbconvert_exporter": "python",
   "pygments_lexer": "ipython2",
   "version": "2.7.13"
  },
  "toc": {
   "base_numbering": 1,
   "nav_menu": {},
   "number_sections": true,
   "sideBar": true,
   "skip_h1_title": false,
   "title_cell": "Table of Contents",
   "title_sidebar": "Contents",
   "toc_cell": false,
   "toc_position": {},
   "toc_section_display": true,
   "toc_window_display": false
  }
 },
 "nbformat": 4,
 "nbformat_minor": 2
}
