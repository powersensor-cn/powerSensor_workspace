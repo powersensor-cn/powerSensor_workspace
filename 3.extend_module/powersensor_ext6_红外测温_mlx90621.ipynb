{
 "cells": [
  {
   "cell_type": "code",
   "execution_count": 1,
   "metadata": {},
   "outputs": [],
   "source": [
    "import PowerSensor as ps\n",
    "import numpy as np\n",
    "from smbus2 import SMBus, i2c_msg\n",
    "import matplotlib.pyplot as plt\n",
    "from IPython.display import clear_output\n",
    "import cv2\n",
    "import imp\n",
    "import time\n",
    "\n",
    "# 除了常用的模块，还需要import 90621模块\n",
    "import Mlx90621 as Mlx90621"
   ]
  },
  {
   "cell_type": "markdown",
   "metadata": {},
   "source": [
    "![](./img/mlx90621_img.jpg)"
   ]
  },
  {
   "cell_type": "markdown",
   "metadata": {},
   "source": [
    "## 初始化"
   ]
  },
  {
   "cell_type": "code",
   "execution_count": 2,
   "metadata": {},
   "outputs": [
    {
     "name": "stderr",
     "output_type": "stream",
     "text": [
      "/usr/lib/python2.7/dist-packages/Mlx90621.py:132: RuntimeWarning: overflow encountered in ubyte_scalars\n"
     ]
    }
   ],
   "source": [
    "# 1. 初始化i2c，即准备用于操作红外测温传感器的i2c\n",
    "i2c = ps.I2cPort()\n",
    "# 2. 实例化红外测温传感器的对象\n",
    "sensor = Mlx90621.mlx90621_helper(i2c)\n",
    "# 3. 初始化红外测温传感器\n",
    "sensor.sensor_init()\n",
    "# 4。 初始化摄像头\n",
    "cam1 = ps.ImageSensor()"
   ]
  },
  {
   "cell_type": "markdown",
   "metadata": {},
   "source": [
    "## 温度阵列测试\n",
    "\n",
    "这里提供了两个函数来读取传感器数据\n",
    "1. sensor.sensor_read(): 这个函数可以读取到校正的温度数据;返回值有4项:(1)传感器本身温度，(2)温度阵列(16x4)，(3)最小温度，(4)最大温度\n",
    "2. sensor.sensor_get_img(block_size=15)：可以函数可以读取到一个图像，这个图像是温度数据经过伪色处理的rgb图像，block_size是填充的色块大小"
   ]
  },
  {
   "cell_type": "markdown",
   "metadata": {},
   "source": [
    "### 读取温度数据"
   ]
  },
  {
   "cell_type": "code",
   "execution_count": 11,
   "metadata": {},
   "outputs": [
    {
     "name": "stdout",
     "output_type": "stream",
     "text": [
      "传感器本身温度是： 36.70853158892781\n",
      "测量（看到）温度阵列是： [19.52076333 18.82496852 18.36947801 14.90737531 20.54690899 20.30326203\n",
      " 20.82600882 19.10676991 21.89554307 24.45890088 22.05777012 18.29867623\n",
      " 21.99345029 23.2531097  22.43435587 20.80230739 23.08293985 23.95048024\n",
      " 24.629493   21.30446969 22.83718048 24.01769583 23.80581959 21.38887569\n",
      " 23.31887703 24.08156868 24.46276111 20.65753858 23.61202077 25.17866136\n",
      " 24.88065447 21.07941283 23.08087638 25.26136767 23.04286191 21.22100491\n",
      " 23.01638702 24.14304023 24.88733398 20.77798658 23.0822955  24.57686247\n",
      " 24.44874565 20.90521239 22.77635629 23.66630873 24.84073306 20.10154866\n",
      " 22.21445321 22.99874535 24.4021742  21.2156125  21.78063383 23.03481002\n",
      " 22.86192686 20.66129623 20.70940526 21.49623116 22.57157765 18.80870933\n",
      " 19.54534457 21.46301157 20.71153091 17.1935571 ]\n",
      "测量温度最小值是： 14.907375312774263\n",
      "测量温度最大值是： 25.26136766669589\n"
     ]
    }
   ],
   "source": [
    "x1, x2, x3, x4 = sensor.sensor_read()\n",
    "print(\"传感器本身温度是： \" + str(x1))\n",
    "print(\"测量（看到）温度阵列是： \" + str(x2))\n",
    "print(\"测量温度最小值是： \" + str(x3))\n",
    "print(\"测量温度最大值是： \" + str(x4))"
   ]
  },
  {
   "cell_type": "markdown",
   "metadata": {},
   "source": [
    "### 读取伪色温度图像"
   ]
  },
  {
   "cell_type": "code",
   "execution_count": 24,
   "metadata": {},
   "outputs": [
    {
     "data": {
      "image/png": "[encoded data removed]",
      "text/plain": [
       "<IPython.core.display.Image object>"
      ]
     },
     "metadata": {},
     "output_type": "display_data"
    }
   ],
   "source": [
    "for i in range(1000):\n",
    "    start = time.time()\n",
    "    clear_output(True)\n",
    "    x_img = sensor.sensor_get_img(block_size=15)\n",
    "    # 由于传感器测量的温度范围是-22 到 300， 所以要进行一定程度的放大才方便观察\n",
    "    ps.CommonFunction.show_img_jupyter(x_img * 5)\n",
    "#     time.sleep(0.1)\n",
    "    end = time.time()\n",
    "#     print('t', end-start)"
   ]
  },
  {
   "cell_type": "markdown",
   "metadata": {},
   "source": [
    "### 相机图像与红外传感器图像叠加"
   ]
  },
  {
   "cell_type": "code",
   "execution_count": 27,
   "metadata": {},
   "outputs": [
    {
     "data": {
      "image/png": "[encoded data removed]",
      "text/plain": [
       "<IPython.core.display.Image object>"
      ]
     },
     "metadata": {},
     "output_type": "display_data"
    }
   ],
   "source": [
    "for i in range(200):\n",
    "    start = time.time()\n",
    "    clear_output(wait=True)\n",
    "    imgMat = cam1.read_img_ori()\n",
    "    tempImg = cv2.resize(imgMat, (320,240))\n",
    "    \n",
    "    #显示图像\n",
    "#     display(img)\n",
    "    end = time.time()\n",
    "#     print(end - start)\n",
    "    t_mon = sensor.sensor_read()[3]\n",
    "    x_img = sensor.sensor_get_img(block_size=15)\n",
    "    image_black = np.zeros_like(tempImg)\n",
    "    x_img_rot = np.rot90(x_img)\n",
    "    x_img_rot = np.rot90(x_img_rot)\n",
    "    x_img_rot = np.rot90(x_img_rot)\n",
    "    image_black[:, 130:190, :] = x_img_rot\n",
    "    img_add = cv2.addWeighted(tempImg, 0.8, image_black, 5, 0)\n",
    "    \n",
    "    font=cv2.FONT_HERSHEY_SIMPLEX\n",
    "    cv2.putText(img_add,str(t_mon + 10),(110,60), font, 1,(255,255,255),2)\n",
    "    img = ps.CommonFunction.show_img_jupyter(img_add)\n",
    "    time.sleep(0.1)"
   ]
  },
  {
   "cell_type": "code",
   "execution_count": null,
   "metadata": {},
   "outputs": [],
   "source": []
  }
 ],
 "metadata": {
  "kernelspec": {
   "display_name": "Python 2",
   "language": "python",
   "name": "python2"
  },
  "language_info": {
   "codemirror_mode": {
    "name": "ipython",
    "version": 2
   },
   "file_extension": ".py",
   "mimetype": "text/x-python",
   "name": "python",
   "nbconvert_exporter": "python",
   "pygments_lexer": "ipython2",
   "version": "2.7.13"
  },
  "toc": {
   "base_numbering": 1,
   "nav_menu": {},
   "number_sections": true,
   "sideBar": true,
   "skip_h1_title": false,
   "title_cell": "Table of Contents",
   "title_sidebar": "Contents",
   "toc_cell": false,
   "toc_position": {},
   "toc_section_display": true,
   "toc_window_display": false
  }
 },
 "nbformat": 4,
 "nbformat_minor": 2
}
