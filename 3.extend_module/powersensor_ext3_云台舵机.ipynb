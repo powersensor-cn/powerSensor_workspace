{
 "cells": [
  {
   "cell_type": "code",
   "execution_count": 1,
   "metadata": {},
   "outputs": [],
   "source": [
    "import PowerSensor as ps\n",
    "import time\n",
    "from IPython.display import clear_output\n",
    "import numpy as np"
   ]
  },
  {
   "cell_type": "code",
   "execution_count": 2,
   "metadata": {},
   "outputs": [],
   "source": [
    "pwmx = ps.PwmActuator()"
   ]
  },
  {
   "cell_type": "code",
   "execution_count": 44,
   "metadata": {},
   "outputs": [],
   "source": [
    "pwmx.preDividor = 100 - 1 # 1M hz\n",
    "pwmx.period = 10000 - 1 # 100 hz\n",
    "pwmx.pwm0 = a # 舵机一般1ms是最小值\n",
    "pwmx.pwm1 = 1000\n",
    "# pwmx.pwm0 = 1200\n",
    "# pwmx.pwm0 = 2000 # 舵机一般2ms是最大值\n",
    "pwmx.mode = 1\n",
    "pwmx.pwm_setup(True)"
   ]
  },
  {
   "cell_type": "code",
   "execution_count": 10,
   "metadata": {},
   "outputs": [],
   "source": [
    "# 1, 2 号舵机，逐秒旋转\n",
    "for i in range(5):\n",
    "    pwmx.pwm_set_width(0, 1000 + 200 * i)\n",
    "    pwmx.pwm_set_width(1, 1000 + 200 * i)\n",
    "    time.sleep(1)"
   ]
  },
  {
   "cell_type": "code",
   "execution_count": 45,
   "metadata": {},
   "outputs": [],
   "source": [
    "# 方位角设置 0通道\n",
    "azimuth=0;#输入方位角，单位为度 范围为[-113.64,75.76]\n",
    "accuracy=1/0.0947;#精度，90/950\n",
    "a=int(-azimuth*accuracy)+1300 #1300对应0度\n",
    "if a>2500:\n",
    "    a=2500\n",
    "if a<500:\n",
    "    a=500\n",
    "pwmx.pwm_set_width(0, a)"
   ]
  },
  {
   "cell_type": "code",
   "execution_count": 63,
   "metadata": {},
   "outputs": [],
   "source": [
    "# 俯仰角设置 1通道\n",
    "elevation=30;#输入俯仰角，单位为度 范围为[-28,41.56.82]\n",
    "accuracy=1/0.0947;#精度，90/950和之前一样\n",
    "e=int(-elevation*accuracy)+1100 #1100对应0度\n",
    "if e>1400:\n",
    "    e=1400\n",
    "if e<500:\n",
    "    e=500\n",
    "pwmx.pwm_set_width(1, e)"
   ]
  },
  {
   "cell_type": "markdown",
   "metadata": {},
   "source": [
    "# 将方位角和俯仰角能到达的位置遍历一下"
   ]
  },
  {
   "cell_type": "code",
   "execution_count": 78,
   "metadata": {},
   "outputs": [],
   "source": [
    "# 遍历最大范围\n",
    "num=5\n",
    "a1=[]\n",
    "e1=[]\n",
    "for i in range(num):\n",
    "    a1.append(-113.64+i*(75.76+113.64)/(num-1))\n",
    "    e1.append(-28.41+i*(28.41+56.82)/(num-1))\n",
    "for i in range(num):\n",
    "    # 方位角设置 0通道\n",
    "    azimuth=a1[i];#输入方位角，单位为度 范围为[-113.64,75.76]\n",
    "    accuracy=1/0.0947;#精度，90/950\n",
    "    a=int(-azimuth*accuracy)+1300 #1300对应0度\n",
    "    if a>2500:\n",
    "        a=2500\n",
    "    if a<500:\n",
    "        a=500\n",
    "    pwmx.pwm_set_width(0, a)\n",
    "    # 俯仰角设置 1通道\n",
    "    elevation=e1[i];#输入俯仰角，单位为度 范围为[-28,41.56.82]\n",
    "    accuracy=1/0.0947;#精度，90/950和之前一样\n",
    "    e=int(-elevation*accuracy)+1100 #1100对应0度\n",
    "    if e>1400:\n",
    "        e=1400\n",
    "    if e<500:\n",
    "        e=500\n",
    "    pwmx.pwm_set_width(1, e)\n",
    "    time.sleep(1)"
   ]
  },
  {
   "cell_type": "markdown",
   "metadata": {},
   "source": [
    "# 回到初始位置[0度，0度]"
   ]
  },
  {
   "cell_type": "code",
   "execution_count": 79,
   "metadata": {},
   "outputs": [],
   "source": [
    "# 方位角设置 0通道\n",
    "azimuth=0;#输入方位角，单位为度 范围为[-113.64,75.76]\n",
    "accuracy=1/0.0947;#精度，90/950\n",
    "a=int(-azimuth*accuracy)+1300 #1300对应0度\n",
    "if a>2500:\n",
    "    a=2500\n",
    "if a<500:\n",
    "    a=500\n",
    "pwmx.pwm_set_width(0, a)\n",
    "# 俯仰角设置 1通道\n",
    "elevation=0;#输入俯仰角，单位为度 范围为[-28,41.56.82]\n",
    "accuracy=1/0.0947;#精度，90/950和之前一样\n",
    "e=int(-elevation*accuracy)+1100 #1100对应0度\n",
    "if e>1400:\n",
    "    e=1400\n",
    "if e<500:\n",
    "    e=500\n",
    "pwmx.pwm_set_width(1, e)"
   ]
  },
  {
   "cell_type": "code",
   "execution_count": null,
   "metadata": {},
   "outputs": [],
   "source": []
  }
 ],
 "metadata": {
  "kernelspec": {
   "display_name": "Python 2",
   "language": "python",
   "name": "python2"
  },
  "language_info": {
   "codemirror_mode": {
    "name": "ipython",
    "version": 2
   },
   "file_extension": ".py",
   "mimetype": "text/x-python",
   "name": "python",
   "nbconvert_exporter": "python",
   "pygments_lexer": "ipython2",
   "version": "2.7.13"
  },
  "toc": {
   "base_numbering": 1,
   "nav_menu": {},
   "number_sections": true,
   "sideBar": true,
   "skip_h1_title": false,
   "title_cell": "Table of Contents",
   "title_sidebar": "Contents",
   "toc_cell": false,
   "toc_position": {},
   "toc_section_display": true,
   "toc_window_display": false
  }
 },
 "nbformat": 4,
 "nbformat_minor": 2
}
