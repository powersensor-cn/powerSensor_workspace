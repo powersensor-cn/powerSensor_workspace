{
 "cells": [
  {
   "cell_type": "code",
   "execution_count": null,
   "metadata": {},
   "outputs": [],
   "source": [
    "import PowerSensor as ps"
   ]
  },
  {
   "cell_type": "markdown",
   "metadata": {},
   "source": [
    "# 初始化控制对象"
   ]
  },
  {
   "cell_type": "code",
   "execution_count": null,
   "metadata": {},
   "outputs": [],
   "source": [
    "pwmx = ps.PwmActuator()\n",
    "gpiox = ps.GpioPort()\n",
    "# IO为输出模式\n",
    "gpiox.set_mode(1, ps.PortPara.Gpio_Mode_Out)\n",
    "gpiox.set_mode(2, ps.PortPara.Gpio_Mode_Out)\n",
    "gpiox.set_mode(3, ps.PortPara.Gpio_Mode_Out)\n",
    "gpiox.set_mode(4, ps.PortPara.Gpio_Mode_Out)\n",
    "# 普通模式下的pwm输出\n",
    "# 预分频，实际分频数=设定值+1\n",
    "pwmx.preDividor = 10 - 1\n",
    "# 高电平时间，最大为周期的设定值，即999\n",
    "pwmx.period = 1000 - 1\n",
    "# 模式设置，1：普通模式；\n",
    "pwmx.mode = 1"
   ]
  },
  {
   "cell_type": "markdown",
   "metadata": {},
   "source": [
    "# 电机转动"
   ]
  },
  {
   "cell_type": "code",
   "execution_count": null,
   "metadata": {},
   "outputs": [],
   "source": [
    "# MotorNum:1左电机 2右电机\n",
    "# Direction:电机方向：1前进 2后退\n",
    "# Speed：电机速度200~999\n",
    "def MotorMove(MotorNum,Direction,Speed):\n",
    "    if MotorNum==1 and Direction==1:\n",
    "        gpiox.set_value(1, ps.PortPara.Gpio_Value_High)\n",
    "        gpiox.set_value(2, ps.PortPara.Gpio_Value_Low)\n",
    "    elif MotorNum==1 and Direction==2:\n",
    "        gpiox.set_value(1, ps.PortPara.Gpio_Value_Low)\n",
    "        gpiox.set_value(2, ps.PortPara.Gpio_Value_High)\n",
    "    elif MotorNum==2 and Direction==1:\n",
    "        gpiox.set_value(3, ps.PortPara.Gpio_Value_High)\n",
    "        gpiox.set_value(4, ps.PortPara.Gpio_Value_Low)\n",
    "    elif MotorNum==2 and Direction==2:\n",
    "        gpiox.set_value(3, ps.PortPara.Gpio_Value_Low)\n",
    "        gpiox.set_value(4, ps.PortPara.Gpio_Value_High)    \n",
    "    # 设置转速\n",
    "    if MotorNum==1:\n",
    "        pwmx.pwm3 = Speed\n",
    "        pwmx.pwm_setup(True)\n",
    "    elif MotorNum==2:\n",
    "        pwmx.pwm2 = Speed\n",
    "        pwmx.pwm_setup(True)"
   ]
  },
  {
   "cell_type": "markdown",
   "metadata": {},
   "source": [
    "# 刹车  "
   ]
  },
  {
   "cell_type": "code",
   "execution_count": 1,
   "metadata": {},
   "outputs": [],
   "source": [
    "def MotorBrake(MotorNum):\n",
    "    if MotorNum==1:\n",
    "        gpiox.set_value(1, ps.PortPara.Gpio_Value_High)\n",
    "        gpiox.set_value(2, ps.PortPara.Gpio_Value_High)        \n",
    "    elif MotorNum==2:\n",
    "        gpiox.set_value(3, ps.PortPara.Gpio_Value_High)\n",
    "        gpiox.set_value(4, ps.PortPara.Gpio_Value_High)\n",
    "\n",
    "# 自由停车\n",
    "def MotorFreeParking(MotorNum):\n",
    "    if MotorNum==1:\n",
    "        gpiox.set_value(1, ps.PortPara.Gpio_Value_Low)\n",
    "        gpiox.set_value(2, ps.PortPara.Gpio_Value_Low)        \n",
    "    elif MotorNum==2:\n",
    "        gpiox.set_value(3, ps.PortPara.Gpio_Value_Low)\n",
    "        gpiox.set_value(4, ps.PortPara.Gpio_Value_Low)  "
   ]
  },
  {
   "cell_type": "markdown",
   "metadata": {},
   "source": [
    "# 小车行走测试"
   ]
  },
  {
   "cell_type": "code",
   "execution_count": null,
   "metadata": {},
   "outputs": [],
   "source": [
    "# 初始化控制对象\n",
    "pwmx = ps.PwmActuator()\n",
    "gpiox = ps.GpioPort()\n",
    "\n",
    "# 正向跑5ms，反向跑5s\n",
    "MotorMove(1,1,800)\n",
    "MotorMove(2,1,800)\n",
    "time.sleep(1)\n",
    "MotorMove(1,2,800)\n",
    "MotorMove(2,2,800)\n",
    "time.sleep(1)\n",
    "# 1电机刹车，2电机自由停车\n",
    "MotorBrake(1)\n",
    "MotorFreeParking(2)"
   ]
  }
 ],
 "metadata": {
  "kernelspec": {
   "display_name": "Python 2",
   "language": "python",
   "name": "python2"
  },
  "language_info": {
   "codemirror_mode": {
    "name": "ipython",
    "version": 2
   },
   "file_extension": ".py",
   "mimetype": "text/x-python",
   "name": "python",
   "nbconvert_exporter": "python",
   "pygments_lexer": "ipython2",
   "version": "2.7.13"
  },
  "toc": {
   "base_numbering": 1,
   "nav_menu": {},
   "number_sections": true,
   "sideBar": true,
   "skip_h1_title": false,
   "title_cell": "Table of Contents",
   "title_sidebar": "Contents",
   "toc_cell": false,
   "toc_position": {},
   "toc_section_display": true,
   "toc_window_display": false
  }
 },
 "nbformat": 4,
 "nbformat_minor": 2
}
