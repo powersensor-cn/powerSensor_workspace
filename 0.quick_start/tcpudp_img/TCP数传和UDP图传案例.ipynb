{
 "cells": [
  {
   "cell_type": "code",
   "execution_count": 1,
   "metadata": {},
   "outputs": [],
   "source": [
    "import numpy as np\n",
    "import cv2\n",
    "import time\n",
    "import numpy as np\n",
    "import struct\n",
    "import socket\n",
    "import TcpUdpHelper\n",
    "import PowerSensor as ps"
   ]
  },
  {
   "cell_type": "markdown",
   "metadata": {},
   "source": [
    "# TCP UDP服务器"
   ]
  },
  {
   "cell_type": "markdown",
   "metadata": {},
   "source": [
    "## 构造自定义的数据类"
   ]
  },
  {
   "cell_type": "code",
   "execution_count": 2,
   "metadata": {},
   "outputs": [],
   "source": [
    "class PowersensorPara_ex(TcpUdpHelper.PowersensorPara):\n",
    "    def __init__(self, debug=False):\n",
    "        super(PowersensorPara_ex, self).__init__()\n",
    "        self.paraSwitch = [False, False, False, False, False, False, False, False]\n",
    "        self.paraInt = np.array(np.zeros(2), dtype=np.int32)\n",
    "        self.paraFloat = np.array(np.zeros(8), dtype=np.float32)\n",
    "    \n",
    "    def unpackBuffer(self, data_buf):\n",
    "        for i in range(8):\n",
    "            # print(data_buf[4 + i] )\n",
    "            if data_buf[4 + i] > 0:\n",
    "                self.paraSwitch[i] = True\n",
    "            else:\n",
    "                self.paraSwitch[i] = False    \n",
    "        temp = struct.unpack('ii', data_buf[12:20])\n",
    "        self.paraInt = np.array(temp, np.int32)\n",
    "        temp = struct.unpack('ffffffff', data_buf[20:52])\n",
    "        self.paraFloat = np.array(temp, np.float32)\n",
    "        \n",
    "    def packParas(self):\n",
    "        buffer = struct.pack(\"iiffffffff\", self.paraInt[0], self.paraInt[1], self.paraFloat[0], self.paraFloat[1],\n",
    "                            self.paraFloat[2], self.paraFloat[3], self.paraFloat[4], self.paraFloat[5],\n",
    "                            self.paraFloat[6], self.paraFloat[7])\n",
    "        cmd_buf = bytearray(52)\n",
    "        cmd_buf[0] = 0xfa\n",
    "        cmd_buf[1] = 0xf5\n",
    "        cmd_buf[2] = 0\n",
    "        cmd_buf[3] = 0x02\n",
    "        for i in range(8):\n",
    "            if self.paraSwitch[i]:\n",
    "                cmd_buf[i + 4] = 1\n",
    "            else:\n",
    "                cmd_buf[i + 4] = 0\n",
    "        for i in range(len(buffer)):\n",
    "            cmd_buf[i + 12] = buffer[i]\n",
    "        return cmd_buf\n",
    "    \n",
    "    \n"
   ]
  },
  {
   "cell_type": "markdown",
   "metadata": {},
   "source": [
    "## 新建服务器"
   ]
  },
  {
   "cell_type": "code",
   "execution_count": 3,
   "metadata": {},
   "outputs": [],
   "source": [
    "x = PowersensorPara_ex()\n",
    "# 端口号必须和上位机定义的一致\n",
    "server = TcpUdpHelper.PowersensorServer(port=10775, para=x)"
   ]
  },
  {
   "cell_type": "markdown",
   "metadata": {},
   "source": [
    "## 启动服务器"
   ]
  },
  {
   "cell_type": "code",
   "execution_count": 4,
   "metadata": {},
   "outputs": [
    {
     "name": "stdout",
     "output_type": "stream",
     "text": [
      "[Errno 104] Connection reset by peer\n",
      "[Errno 104] Connection reset by peer\n"
     ]
    }
   ],
   "source": [
    "x = server.startServer()"
   ]
  },
  {
   "cell_type": "markdown",
   "metadata": {},
   "source": [
    "## 测试"
   ]
  },
  {
   "cell_type": "code",
   "execution_count": 12,
   "metadata": {},
   "outputs": [
    {
     "name": "stdout",
     "output_type": "stream",
     "text": [
      "开关型数据:[True, False, False, True, True, False, True, False]\n",
      "整型数据:[10 10]\n",
      "浮点型数据:[ 0.1 -0.2  0.3 -0.4  0.5 -0.6 -0.7 -0.8]\n"
     ]
    }
   ],
   "source": [
    "# 打印原始数据 \n",
    "print('开关型数据:' + str(x.paraSwitch))\n",
    "print('整型数据:' + str(x.paraInt))\n",
    "print('浮点型数据:' + str(x.paraFloat))"
   ]
  },
  {
   "cell_type": "code",
   "execution_count": 13,
   "metadata": {},
   "outputs": [
    {
     "name": "stdout",
     "output_type": "stream",
     "text": [
      "开关型数据:[True, False, False, True, True, False, True, False]\n",
      "整型数据:[34 10]\n",
      "浮点型数据:[ 0.1 -0.2  0.3 -0.4  0.5 -0.6 -0.7 -0.8]\n"
     ]
    }
   ],
   "source": [
    "# 在上位机上修改数据后，点写入参数，然后打印查看参数的变化\n",
    "print('开关型数据:' + str(x.paraSwitch))\n",
    "print('整型数据:' + str(x.paraInt))\n",
    "print('浮点型数据:' + str(x.paraFloat))"
   ]
  },
  {
   "cell_type": "code",
   "execution_count": 14,
   "metadata": {},
   "outputs": [],
   "source": [
    "# 修改值后，在上位机上可以看到读书发生变化\n",
    "x.paraFloat[3] = 0.555"
   ]
  },
  {
   "cell_type": "markdown",
   "metadata": {},
   "source": [
    "## UDP图像显示\n",
    "\n",
    "1. 通过循环把图像置入x.img既可在上位机上显示图像\n",
    "2. 在上位机上点击显示图像"
   ]
  },
  {
   "cell_type": "code",
   "execution_count": 6,
   "metadata": {},
   "outputs": [],
   "source": [
    "cam1 = ps.ImageSensor()"
   ]
  },
  {
   "cell_type": "code",
   "execution_count": 8,
   "metadata": {},
   "outputs": [],
   "source": [
    "for i in range(100): \n",
    "    start = time.time() \n",
    "#     clear_output(wait=True) \n",
    "    imgMat = cam1.read_img_ori() \n",
    "    # 缩放图像，以减小保存的文件体积 \n",
    "    tempImg = cv2.resize(imgMat, (320,240)) \n",
    "    x.img = tempImg\n",
    "#     ps.CommonFunction.show_img_jupyter(tempImg) \n",
    "    time.sleep(0.1)"
   ]
  },
  {
   "cell_type": "code",
   "execution_count": null,
   "metadata": {},
   "outputs": [],
   "source": []
  }
 ],
 "metadata": {
  "kernelspec": {
   "display_name": "Python 2",
   "language": "python",
   "name": "python2"
  },
  "language_info": {
   "codemirror_mode": {
    "name": "ipython",
    "version": 2
   },
   "file_extension": ".py",
   "mimetype": "text/x-python",
   "name": "python",
   "nbconvert_exporter": "python",
   "pygments_lexer": "ipython2",
   "version": "2.7.13"
  },
  "toc": {
   "base_numbering": 1,
   "nav_menu": {},
   "number_sections": true,
   "sideBar": true,
   "skip_h1_title": false,
   "title_cell": "Table of Contents",
   "title_sidebar": "Contents",
   "toc_cell": false,
   "toc_position": {},
   "toc_section_display": true,
   "toc_window_display": false
  }
 },
 "nbformat": 4,
 "nbformat_minor": 4
}
